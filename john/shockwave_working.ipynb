{
 "cells": [
  {
   "cell_type": "code",
   "execution_count": 1,
   "id": "1ab6f754",
   "metadata": {},
   "outputs": [],
   "source": [
    "import matplotlib.pyplot as plt\n",
    "import pandas as pd\n",
    "import numpy as np\n",
    "import requests\n",
    "import time\n",
    "import gmaps\n",
    "import math\n",
    "import seaborn as sns\n",
    "import scipy.stats as st\n",
    "from citipy import citipy\n",
    "from scipy.stats import linregress"
   ]
  },
  {
   "cell_type": "code",
   "execution_count": 2,
   "id": "41aee293",
   "metadata": {},
   "outputs": [],
   "source": [
    "import os\n",
    "from dotenv import load_dotenv\n",
    "# Load .env enviroment variables into the notebook\n",
    "load_dotenv()\n",
    "# Get the API key from the environment variable and store as Python variable\n",
    "google_key = os.getenv(\"google_key\")\n",
    "# Configure gmaps\n",
    "gmaps.configure(api_key=google_key)"
   ]
  },
  {
   "cell_type": "code",
   "execution_count": 3,
   "id": "d8c2f206",
   "metadata": {},
   "outputs": [
    {
     "data": {
      "text/html": [
       "<div>\n",
       "<style scoped>\n",
       "    .dataframe tbody tr th:only-of-type {\n",
       "        vertical-align: middle;\n",
       "    }\n",
       "\n",
       "    .dataframe tbody tr th {\n",
       "        vertical-align: top;\n",
       "    }\n",
       "\n",
       "    .dataframe thead th {\n",
       "        text-align: right;\n",
       "    }\n",
       "</style>\n",
       "<table border=\"1\" class=\"dataframe\">\n",
       "  <thead>\n",
       "    <tr style=\"text-align: right;\">\n",
       "      <th></th>\n",
       "      <th>time</th>\n",
       "      <th>latitude</th>\n",
       "      <th>longitude</th>\n",
       "      <th>mag</th>\n",
       "      <th>place</th>\n",
       "    </tr>\n",
       "  </thead>\n",
       "  <tbody>\n",
       "    <tr>\n",
       "      <th>0</th>\n",
       "      <td>1969-12-13T18:59:11.430Z</td>\n",
       "      <td>19.313000</td>\n",
       "      <td>-155.104000</td>\n",
       "      <td>2.78</td>\n",
       "      <td>17 km S of Fern Forest, Hawaii</td>\n",
       "    </tr>\n",
       "    <tr>\n",
       "      <th>1</th>\n",
       "      <td>1969-12-13T17:55:57.400Z</td>\n",
       "      <td>46.709000</td>\n",
       "      <td>-119.234333</td>\n",
       "      <td>1.60</td>\n",
       "      <td>13 km SSW of Othello, Washington</td>\n",
       "    </tr>\n",
       "    <tr>\n",
       "      <th>2</th>\n",
       "      <td>1969-12-13T13:03:04.570Z</td>\n",
       "      <td>19.466667</td>\n",
       "      <td>-155.487667</td>\n",
       "      <td>1.94</td>\n",
       "      <td>26 km W of Volcano, Hawaii</td>\n",
       "    </tr>\n",
       "    <tr>\n",
       "      <th>3</th>\n",
       "      <td>1969-12-13T12:53:50.580Z</td>\n",
       "      <td>19.443167</td>\n",
       "      <td>-155.248833</td>\n",
       "      <td>NaN</td>\n",
       "      <td>1 km W of Volcano, Hawaii</td>\n",
       "    </tr>\n",
       "    <tr>\n",
       "      <th>4</th>\n",
       "      <td>1969-12-13T10:43:38.000Z</td>\n",
       "      <td>19.304167</td>\n",
       "      <td>-155.210500</td>\n",
       "      <td>2.51</td>\n",
       "      <td>15 km S of Volcano, Hawaii</td>\n",
       "    </tr>\n",
       "  </tbody>\n",
       "</table>\n",
       "</div>"
      ],
      "text/plain": [
       "                       time   latitude   longitude   mag  \\\n",
       "0  1969-12-13T18:59:11.430Z  19.313000 -155.104000  2.78   \n",
       "1  1969-12-13T17:55:57.400Z  46.709000 -119.234333  1.60   \n",
       "2  1969-12-13T13:03:04.570Z  19.466667 -155.487667  1.94   \n",
       "3  1969-12-13T12:53:50.580Z  19.443167 -155.248833   NaN   \n",
       "4  1969-12-13T10:43:38.000Z  19.304167 -155.210500  2.51   \n",
       "\n",
       "                              place  \n",
       "0    17 km S of Fern Forest, Hawaii  \n",
       "1  13 km SSW of Othello, Washington  \n",
       "2        26 km W of Volcano, Hawaii  \n",
       "3         1 km W of Volcano, Hawaii  \n",
       "4        15 km S of Volcano, Hawaii  "
      ]
     },
     "execution_count": 3,
     "metadata": {},
     "output_type": "execute_result"
    }
   ],
   "source": [
    "quake_df = pd.read_csv(\"../data/all_earthquake_data2.zip\")\n",
    "\n",
    "quake_df.head()"
   ]
  },
  {
   "cell_type": "code",
   "execution_count": 4,
   "id": "1ae52659",
   "metadata": {},
   "outputs": [
    {
     "data": {
      "text/html": [
       "<div>\n",
       "<style scoped>\n",
       "    .dataframe tbody tr th:only-of-type {\n",
       "        vertical-align: middle;\n",
       "    }\n",
       "\n",
       "    .dataframe tbody tr th {\n",
       "        vertical-align: top;\n",
       "    }\n",
       "\n",
       "    .dataframe thead th {\n",
       "        text-align: right;\n",
       "    }\n",
       "</style>\n",
       "<table border=\"1\" class=\"dataframe\">\n",
       "  <thead>\n",
       "    <tr style=\"text-align: right;\">\n",
       "      <th></th>\n",
       "      <th>time</th>\n",
       "      <th>latitude</th>\n",
       "      <th>longitude</th>\n",
       "      <th>mag</th>\n",
       "      <th>place</th>\n",
       "      <th>year</th>\n",
       "    </tr>\n",
       "  </thead>\n",
       "  <tbody>\n",
       "    <tr>\n",
       "      <th>0</th>\n",
       "      <td>1969-12-13T18:59:11.430Z</td>\n",
       "      <td>19.313000</td>\n",
       "      <td>-155.104000</td>\n",
       "      <td>2.78</td>\n",
       "      <td>17 km S of Fern Forest, Hawaii</td>\n",
       "      <td>1969</td>\n",
       "    </tr>\n",
       "    <tr>\n",
       "      <th>1</th>\n",
       "      <td>1969-12-13T17:55:57.400Z</td>\n",
       "      <td>46.709000</td>\n",
       "      <td>-119.234333</td>\n",
       "      <td>1.60</td>\n",
       "      <td>13 km SSW of Othello, Washington</td>\n",
       "      <td>1969</td>\n",
       "    </tr>\n",
       "    <tr>\n",
       "      <th>2</th>\n",
       "      <td>1969-12-13T13:03:04.570Z</td>\n",
       "      <td>19.466667</td>\n",
       "      <td>-155.487667</td>\n",
       "      <td>1.94</td>\n",
       "      <td>26 km W of Volcano, Hawaii</td>\n",
       "      <td>1969</td>\n",
       "    </tr>\n",
       "    <tr>\n",
       "      <th>3</th>\n",
       "      <td>1969-12-13T12:53:50.580Z</td>\n",
       "      <td>19.443167</td>\n",
       "      <td>-155.248833</td>\n",
       "      <td>NaN</td>\n",
       "      <td>1 km W of Volcano, Hawaii</td>\n",
       "      <td>1969</td>\n",
       "    </tr>\n",
       "    <tr>\n",
       "      <th>4</th>\n",
       "      <td>1969-12-13T10:43:38.000Z</td>\n",
       "      <td>19.304167</td>\n",
       "      <td>-155.210500</td>\n",
       "      <td>2.51</td>\n",
       "      <td>15 km S of Volcano, Hawaii</td>\n",
       "      <td>1969</td>\n",
       "    </tr>\n",
       "  </tbody>\n",
       "</table>\n",
       "</div>"
      ],
      "text/plain": [
       "                       time   latitude   longitude   mag  \\\n",
       "0  1969-12-13T18:59:11.430Z  19.313000 -155.104000  2.78   \n",
       "1  1969-12-13T17:55:57.400Z  46.709000 -119.234333  1.60   \n",
       "2  1969-12-13T13:03:04.570Z  19.466667 -155.487667  1.94   \n",
       "3  1969-12-13T12:53:50.580Z  19.443167 -155.248833   NaN   \n",
       "4  1969-12-13T10:43:38.000Z  19.304167 -155.210500  2.51   \n",
       "\n",
       "                              place  year  \n",
       "0    17 km S of Fern Forest, Hawaii  1969  \n",
       "1  13 km SSW of Othello, Washington  1969  \n",
       "2        26 km W of Volcano, Hawaii  1969  \n",
       "3         1 km W of Volcano, Hawaii  1969  \n",
       "4        15 km S of Volcano, Hawaii  1969  "
      ]
     },
     "execution_count": 4,
     "metadata": {},
     "output_type": "execute_result"
    }
   ],
   "source": [
    "# Store latitude and longitude in locations\n",
    "quake_df['year'] = pd.DatetimeIndex(quake_df['time']).year\n",
    "locations = quake_df[[\"latitude\", \"longitude\"]]\n",
    "magnitude  = quake_df[['mag']]\n",
    "quake_df[['year']].astype(float)\n",
    "quake_df.head()"
   ]
  },
  {
   "cell_type": "code",
   "execution_count": 5,
   "id": "e154566e",
   "metadata": {},
   "outputs": [],
   "source": [
    "# # Plot Heatmap\n",
    "# fig = gmaps.figure(zoom_level=2, center=[31.9686, -99.9018])\n",
    "\n",
    "\n",
    "\n",
    "# # Create heat layer\n",
    "# heat_layer = gmaps.heatmap_layer(locations, weights = quake_df['mag'] > 3,\n",
    "#                                  dissipating=False, max_intensity=10,\n",
    "#                                  point_radius=1)\n",
    "\n",
    "\n",
    "# # Add layer\n",
    "# fig.add_layer(heat_layer)\n",
    "\n",
    "# # Display figure\n",
    "# fig"
   ]
  },
  {
   "cell_type": "code",
   "execution_count": 6,
   "id": "d390bd63",
   "metadata": {},
   "outputs": [
    {
     "name": "stderr",
     "output_type": "stream",
     "text": [
      "<ipython-input-6-feb9f4d387dd>:4: DeprecationWarning: `np.float` is a deprecated alias for the builtin `float`. To silence this warning, use `float` by itself. Doing this will not modify any behavior and is safe. If you specifically wanted the numpy scalar type, use `np.float64` here.\n",
      "Deprecated in NumPy 1.20; for more details and guidance: https://numpy.org/devdocs/release/1.20.0-notes.html#deprecations\n",
      "  np.array(['1','2','3']).astype(np.float)\n"
     ]
    },
    {
     "data": {
      "text/plain": [
       "2020.0    192297\n",
       "2018.0    188723\n",
       "2019.0    183415\n",
       "2014.0    139921\n",
       "2017.0    134606\n",
       "2008.0    129320\n",
       "2015.0    127072\n",
       "2010.0    126845\n",
       "2016.0    126595\n",
       "2004.0    123003\n",
       "2013.0    118764\n",
       "2005.0    113412\n",
       "2011.0    110971\n",
       "2012.0    109522\n",
       "2006.0    105501\n",
       "2003.0    104090\n",
       "2002.0     99451\n",
       "1992.0     98341\n",
       "2007.0     98301\n",
       "2021.0     93950\n",
       "2009.0     92061\n",
       "2001.0     77089\n",
       "2000.0     76297\n",
       "1997.0     75361\n",
       "1993.0     75120\n",
       "1994.0     73237\n",
       "1999.0     73050\n",
       "1998.0     72315\n",
       "1995.0     72225\n",
       "1996.0     66105\n",
       "1986.0     64769\n",
       "1984.0     62469\n",
       "1989.0     62091\n",
       "1990.0     60454\n",
       "1985.0     59094\n",
       "1991.0     55425\n",
       "1983.0     55344\n",
       "1988.0     46911\n",
       "1987.0     46523\n",
       "1982.0     42401\n",
       "1981.0     38819\n",
       "1980.0     29391\n",
       "1979.0     28231\n",
       "1978.0     21420\n",
       "1975.0     20377\n",
       "1977.0     19608\n",
       "1976.0     17975\n",
       "1974.0     15139\n",
       "1973.0      9994\n",
       "1971.0      8672\n",
       "1970.0      5657\n",
       "1972.0      4957\n",
       "1969.0       400\n",
       "Name: year, dtype: int64"
      ]
     },
     "execution_count": 6,
     "metadata": {},
     "output_type": "execute_result"
    }
   ],
   "source": [
    "quake_df['year'] = quake_df['year'].astype(float)\n",
    "year = quake_df.loc[quake_df['year']]\n",
    "num_of_quakes_by_yr = quake_df['year'].value_counts()\n",
    "np.array(['1','2','3']).astype(np.float)\n",
    "num_of_quakes_by_yr"
   ]
  },
  {
   "cell_type": "code",
   "execution_count": 7,
   "id": "8887f7f3",
   "metadata": {},
   "outputs": [
    {
     "data": {
      "text/plain": [
       "time          object\n",
       "latitude     float64\n",
       "longitude    float64\n",
       "mag          float64\n",
       "place         object\n",
       "year         float64\n",
       "decade        object\n",
       "dtype: object"
      ]
     },
     "execution_count": 7,
     "metadata": {},
     "output_type": "execute_result"
    }
   ],
   "source": [
    "quake_df['decade'] = quake_df['year'].apply(lambda x: str(x) [:3] + '0s')\n",
    "quake_df.dtypes"
   ]
  },
  {
   "cell_type": "code",
   "execution_count": 8,
   "id": "23457df4",
   "metadata": {},
   "outputs": [
    {
     "name": "stdout",
     "output_type": "stream",
     "text": [
      "Total Number to Earthquakes in decade\n",
      "1970s    40968\n",
      "Name: decade, dtype: int64\n",
      "Total Number to Earthquakes in 1980s    75568\n",
      "Name: decade, dtype: int64\n",
      "Total Number to Earthquakes in 1990s    125440\n",
      "Name: decade, dtype: int64\n",
      "Total Number to Earthquakes in 2000s    199869\n",
      "Name: decade, dtype: int64\n",
      "Total Number to Earthquakes in 2010s    187015\n",
      "Name: decade, dtype: int64\n"
     ]
    }
   ],
   "source": [
    "seventies = quake_df.loc[(quake_df['decade'] == '1970s') & (quake_df['mag'] >= 3)]\n",
    "num_of_quakes_70 = seventies.groupby('decade')['decade'].count()\n",
    "eighties = quake_df.loc[(quake_df['decade'] == '1980s') & (quake_df['mag'] >= 3)]\n",
    "num_of_quakes_80 = eighties['decade'].value_counts()\n",
    "nineties = quake_df.loc[(quake_df['decade'] == '1990s') & (quake_df['mag'] >= 3)]\n",
    "num_of_quakes_90 = nineties['decade'].value_counts()\n",
    "y2k = quake_df.loc[(quake_df['decade'] == '2000s') & (quake_df['mag'] >= 3)]\n",
    "num_of_quakes_00 = y2k['decade'].value_counts()\n",
    "y2k1 = quake_df.loc[(quake_df['decade'] == '2010s') & (quake_df['mag'] >= 3)]\n",
    "num_of_quakes_10 = y2k1['decade'].value_counts()\n",
    "y2k2 = quake_df.loc[(quake_df['year'] == 2020) & (quake_df['mag'] >= 3)]\n",
    "# all_data = quake_df.loc[(quake_df['mag'] >= 3)] & (quake_df['decade'])\n",
    "\n",
    "print(f'Total Number to Earthquakes in {num_of_quakes_70}')\n",
    "print(f'Total Number to Earthquakes in {num_of_quakes_80}')\n",
    "print(f'Total Number to Earthquakes in {num_of_quakes_90}')\n",
    "print(f'Total Number to Earthquakes in {num_of_quakes_00}')\n",
    "print(f'Total Number to Earthquakes in {num_of_quakes_10}')"
   ]
  },
  {
   "cell_type": "code",
   "execution_count": 9,
   "id": "548ac3db",
   "metadata": {
    "scrolled": true
   },
   "outputs": [
    {
     "data": {
      "text/plain": [
       "2010s    1366434\n",
       "2000s    1018525\n",
       "1990s     721633\n",
       "1980s     507812\n",
       "2020s     286247\n",
       "1970s     152030\n",
       "1960s        400\n",
       "Name: decade, dtype: int64"
      ]
     },
     "execution_count": 9,
     "metadata": {},
     "output_type": "execute_result"
    }
   ],
   "source": [
    "num_of_quakes_by_dec = quake_df['decade'].value_counts()\n",
    "num_of_quakes_by_dec"
   ]
  },
  {
   "cell_type": "code",
   "execution_count": 10,
   "id": "95d6a098",
   "metadata": {},
   "outputs": [],
   "source": [
    "top10_quakes_all = quake_df.nlargest(10, 'mag')\n",
    "top10_70s = seventies.nlargest(10, 'mag')\n",
    "top10_80s = eighties.nlargest(10, 'mag')\n",
    "top10_90s = nineties.nlargest(10, 'mag')\n",
    "top10_00s = y2k.nlargest(10, 'mag')\n",
    "top10_10s = y2k1.nlargest(10, 'mag')"
   ]
  },
  {
   "cell_type": "code",
   "execution_count": 11,
   "id": "f1db16da",
   "metadata": {},
   "outputs": [
    {
     "data": {
      "application/vnd.jupyter.widget-view+json": {
       "model_id": "d15fb96bbc5641ffa5bd9473da86686d",
       "version_major": 2,
       "version_minor": 0
      },
      "text/plain": [
       "Figure(layout=FigureLayout(height='420px'))"
      ]
     },
     "metadata": {},
     "output_type": "display_data"
    }
   ],
   "source": [
    "locations = top10_quakes_all[['latitude', 'longitude']]\n",
    "weights = top10_quakes_all['mag']\n",
    "fig = gmaps.figure(zoom_level=2, center=[31.9686, -99.9018])\n",
    "# Create heat layer\n",
    "heat_layer = gmaps.heatmap_layer(locations, weights = weights,\n",
    "                                 dissipating=False, max_intensity=10,\n",
    "                                 point_radius=3)\n",
    "# Add layer\n",
    "fig.add_layer(heat_layer)\n",
    "# Display figure\n",
    "fig"
   ]
  },
  {
   "cell_type": "code",
   "execution_count": 12,
   "id": "4a498824",
   "metadata": {},
   "outputs": [
    {
     "data": {
      "application/vnd.jupyter.widget-view+json": {
       "model_id": "5975ee7b565545639fc626afa90d27c9",
       "version_major": 2,
       "version_minor": 0
      },
      "text/plain": [
       "Figure(layout=FigureLayout(height='420px'))"
      ]
     },
     "metadata": {},
     "output_type": "display_data"
    }
   ],
   "source": [
    "marker_locations = top10_quakes_all[['latitude', 'longitude']]\n",
    "\n",
    "fig = gmaps.figure(zoom_level=2, center=[31.9686, -99.9018])\n",
    "markers = gmaps.marker_layer(marker_locations)\n",
    "fig.add_layer(markers)\n",
    "fig"
   ]
  },
  {
   "cell_type": "code",
   "execution_count": 17,
   "id": "2cc5e89b",
   "metadata": {},
   "outputs": [
    {
     "data": {
      "image/png": "[encoded data removed]",
      "text/plain": [
       "<Figure size 432x288 with 1 Axes>"
      ]
     },
     "metadata": {
      "needs_background": "light"
     },
     "output_type": "display_data"
    }
   ],
   "source": [
    "Decademag = quake_df.loc[(quake_df['year'].between(1970,2020)) & (quake_df['mag'] >= 7)]\n",
    "combine_year = Decademag.groupby('year')\n",
    "count = combine_year['year'].count()\n",
    "\n",
    "x_values = count.index\n",
    "y_values = list(count)\n",
    "plt.scatter(x_values,y_values)\n",
    "(slope, intercept, rvalue, pvalue, stderr) = linregress(x_values, y_values)\n",
    "regress_values = x_values * slope + intercept\n",
    "line_eq = \"y = \" + str(round(slope,2)) + \"x + \" + str(round(intercept,2))\n",
    "plt.plot(x_values,regress_values,\"r-\")\n",
    "plt.ylim(0,25)\n",
    "plt.annotate(line_eq,(1990,5),fontsize=15,color=\"red\")\n",
    "plt.xlabel('Decade')\n",
    "plt.ylabel('Number of Earthquakes >= 7 (mag)')\n",
    "plt.show()"
   ]
  },
  {
   "cell_type": "code",
   "execution_count": 14,
   "id": "068eaba9",
   "metadata": {},
   "outputs": [
    {
     "data": {
      "text/plain": [
       "2010s    1366434\n",
       "2000s    1018525\n",
       "1990s     721633\n",
       "1980s     507812\n",
       "2020s     286247\n",
       "1970s     152030\n",
       "1960s        400\n",
       "Name: decade, dtype: int64"
      ]
     },
     "execution_count": 14,
     "metadata": {},
     "output_type": "execute_result"
    }
   ],
   "source": [
    "count = num_of_quakes_by_dec\n",
    "count"
   ]
  },
  {
   "cell_type": "code",
   "execution_count": null,
   "id": "3ac7a78a",
   "metadata": {},
   "outputs": [],
   "source": []
  },
  {
   "cell_type": "code",
   "execution_count": null,
   "id": "dfe5a9b2",
   "metadata": {},
   "outputs": [],
   "source": []
  },
  {
   "cell_type": "code",
   "execution_count": null,
   "id": "3c40b201",
   "metadata": {},
   "outputs": [],
   "source": []
  }
 ],
 "metadata": {
  "kernelspec": {
   "display_name": "Python 3",
   "language": "python",
   "name": "python3"
  },
  "language_info": {
   "codemirror_mode": {
    "name": "ipython",
    "version": 3
   },
   "file_extension": ".py",
   "mimetype": "text/x-python",
   "name": "python",
   "nbconvert_exporter": "python",
   "pygments_lexer": "ipython3",
   "version": "3.6.13"
  }
 },
 "nbformat": 4,
 "nbformat_minor": 5
}
