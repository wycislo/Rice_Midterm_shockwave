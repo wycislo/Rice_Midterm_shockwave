{
 "cells": [
  {
   "cell_type": "code",
   "execution_count": 21,
   "id": "1ab6f754",
   "metadata": {},
   "outputs": [],
   "source": [
    "import matplotlib.pyplot as plt\n",
    "import pandas as pd\n",
    "import numpy as np\n",
    "import requests\n",
    "import time\n",
    "import gmaps\n",
    "from citipy import citipy\n",
    "from scipy.stats import linregress"
   ]
  },
  {
   "cell_type": "code",
   "execution_count": 23,
   "id": "41aee293",
   "metadata": {},
   "outputs": [],
   "source": [
    "import os\n",
    "from dotenv import load_dotenv\n",
    "# Load .env enviroment variables into the notebook\n",
    "load_dotenv()\n",
    "# Get the API key from the environment variable and store as Python variable\n",
    "google_key = os.getenv(\"google_key\")\n",
    "# Configure gmaps\n",
    "gmaps.configure(api_key=google_key)\n"
   ]
  },
  {
   "cell_type": "code",
   "execution_count": 3,
   "id": "d8c2f206",
   "metadata": {},
   "outputs": [
    {
     "data": {
      "text/html": [
       "<div>\n",
       "<style scoped>\n",
       "    .dataframe tbody tr th:only-of-type {\n",
       "        vertical-align: middle;\n",
       "    }\n",
       "\n",
       "    .dataframe tbody tr th {\n",
       "        vertical-align: top;\n",
       "    }\n",
       "\n",
       "    .dataframe thead th {\n",
       "        text-align: right;\n",
       "    }\n",
       "</style>\n",
       "<table border=\"1\" class=\"dataframe\">\n",
       "  <thead>\n",
       "    <tr style=\"text-align: right;\">\n",
       "      <th></th>\n",
       "      <th>time</th>\n",
       "      <th>latitude</th>\n",
       "      <th>longitude</th>\n",
       "      <th>mag</th>\n",
       "      <th>place</th>\n",
       "    </tr>\n",
       "  </thead>\n",
       "  <tbody>\n",
       "    <tr>\n",
       "      <th>0</th>\n",
       "      <td>1969-12-13T18:59:11.430Z</td>\n",
       "      <td>19.313000</td>\n",
       "      <td>-155.104000</td>\n",
       "      <td>2.78</td>\n",
       "      <td>17 km S of Fern Forest, Hawaii</td>\n",
       "    </tr>\n",
       "    <tr>\n",
       "      <th>1</th>\n",
       "      <td>1969-12-13T17:55:57.400Z</td>\n",
       "      <td>46.709000</td>\n",
       "      <td>-119.234333</td>\n",
       "      <td>1.60</td>\n",
       "      <td>13 km SSW of Othello, Washington</td>\n",
       "    </tr>\n",
       "    <tr>\n",
       "      <th>2</th>\n",
       "      <td>1969-12-13T13:03:04.570Z</td>\n",
       "      <td>19.466667</td>\n",
       "      <td>-155.487667</td>\n",
       "      <td>1.94</td>\n",
       "      <td>26 km W of Volcano, Hawaii</td>\n",
       "    </tr>\n",
       "    <tr>\n",
       "      <th>3</th>\n",
       "      <td>1969-12-13T12:53:50.580Z</td>\n",
       "      <td>19.443167</td>\n",
       "      <td>-155.248833</td>\n",
       "      <td>NaN</td>\n",
       "      <td>1 km W of Volcano, Hawaii</td>\n",
       "    </tr>\n",
       "    <tr>\n",
       "      <th>4</th>\n",
       "      <td>1969-12-13T10:43:38.000Z</td>\n",
       "      <td>19.304167</td>\n",
       "      <td>-155.210500</td>\n",
       "      <td>2.51</td>\n",
       "      <td>15 km S of Volcano, Hawaii</td>\n",
       "    </tr>\n",
       "  </tbody>\n",
       "</table>\n",
       "</div>"
      ],
      "text/plain": [
       "                       time   latitude   longitude   mag  \\\n",
       "0  1969-12-13T18:59:11.430Z  19.313000 -155.104000  2.78   \n",
       "1  1969-12-13T17:55:57.400Z  46.709000 -119.234333  1.60   \n",
       "2  1969-12-13T13:03:04.570Z  19.466667 -155.487667  1.94   \n",
       "3  1969-12-13T12:53:50.580Z  19.443167 -155.248833   NaN   \n",
       "4  1969-12-13T10:43:38.000Z  19.304167 -155.210500  2.51   \n",
       "\n",
       "                              place  \n",
       "0    17 km S of Fern Forest, Hawaii  \n",
       "1  13 km SSW of Othello, Washington  \n",
       "2        26 km W of Volcano, Hawaii  \n",
       "3         1 km W of Volcano, Hawaii  \n",
       "4        15 km S of Volcano, Hawaii  "
      ]
     },
     "execution_count": 3,
     "metadata": {},
     "output_type": "execute_result"
    }
   ],
   "source": [
    "quake_df = pd.read_csv(\"../data/all_earthquake_data2.zip\")\n",
    "\n",
    "quake_df.head()"
   ]
  },
  {
   "cell_type": "code",
   "execution_count": 4,
   "id": "1ae52659",
   "metadata": {},
   "outputs": [
    {
     "name": "stdout",
     "output_type": "stream",
     "text": [
      "<class 'pandas.core.frame.DataFrame'>\n",
      "RangeIndex: 4053081 entries, 0 to 4053080\n",
      "Data columns (total 6 columns):\n",
      " #   Column     Dtype  \n",
      "---  ------     -----  \n",
      " 0   time       object \n",
      " 1   latitude   float64\n",
      " 2   longitude  float64\n",
      " 3   mag        float64\n",
      " 4   place      object \n",
      " 5   year       int64  \n",
      "dtypes: float64(3), int64(1), object(2)\n",
      "memory usage: 185.5+ MB\n"
     ]
    }
   ],
   "source": [
    "# Store latitude and longitude in locations\n",
    "quake_df['year'] = pd.DatetimeIndex(quake_df['time']).year\n",
    "locations = quake_df[[\"latitude\", \"longitude\"]]\n",
    "magnitude  = quake_df[['mag']].astype(float)\n",
    "quake_df.info(verbose=True)"
   ]
  },
  {
   "cell_type": "code",
   "execution_count": 5,
   "id": "e154566e",
   "metadata": {},
   "outputs": [],
   "source": [
    "# # Plot Heatmap\n",
    "# fig = gmaps.figure(zoom_level=2, center=[31.9686, -99.9018])\n",
    "\n",
    "\n",
    "\n",
    "# # Create heat layer\n",
    "# heat_layer = gmaps.heatmap_layer(locations, weights = quake_df['mag'] > 3,\n",
    "#                                  dissipating=False, max_intensity=10,\n",
    "#                                  point_radius=1)\n",
    "\n",
    "\n",
    "# # Add layer\n",
    "# fig.add_layer(heat_layer)\n",
    "\n",
    "# # Display figure\n",
    "# fig"
   ]
  },
  {
   "cell_type": "code",
   "execution_count": 6,
   "id": "d390bd63",
   "metadata": {},
   "outputs": [
    {
     "data": {
      "text/plain": [
       "1969       400\n",
       "1970      5657\n",
       "1971      8672\n",
       "1972      4957\n",
       "1973      9994\n",
       "1974     15139\n",
       "1975     20377\n",
       "1976     17975\n",
       "1977     19608\n",
       "1978     21420\n",
       "1979     28231\n",
       "1980     29391\n",
       "1981     38819\n",
       "1982     42401\n",
       "1983     55344\n",
       "1984     62469\n",
       "1985     59094\n",
       "1986     64769\n",
       "1987     46523\n",
       "1988     46911\n",
       "1989     62091\n",
       "1990     60454\n",
       "1991     55425\n",
       "1992     98341\n",
       "1993     75120\n",
       "1994     73237\n",
       "1995     72225\n",
       "1996     66105\n",
       "1997     75361\n",
       "1998     72315\n",
       "1999     73050\n",
       "2000     76297\n",
       "2001     77089\n",
       "2002     99451\n",
       "2003    104090\n",
       "2004    123003\n",
       "2005    113412\n",
       "2006    105501\n",
       "2007     98301\n",
       "2008    129320\n",
       "2009     92061\n",
       "2010    126845\n",
       "2011    110971\n",
       "2012    109522\n",
       "2013    118764\n",
       "2014    139921\n",
       "2015    127072\n",
       "2016    126595\n",
       "2017    134606\n",
       "2018    188723\n",
       "2019    183415\n",
       "2020    192297\n",
       "2021     93950\n",
       "Name: year, dtype: int64"
      ]
     },
     "execution_count": 6,
     "metadata": {},
     "output_type": "execute_result"
    }
   ],
   "source": [
    "num_of_quakes_by_yr = quake_df['year'].value_counts()\n",
    "num_of_quakes_by_yr.sort_index()"
   ]
  },
  {
   "cell_type": "code",
   "execution_count": 13,
   "id": "8887f7f3",
   "metadata": {},
   "outputs": [
    {
     "data": {
      "text/html": [
       "<div>\n",
       "<style scoped>\n",
       "    .dataframe tbody tr th:only-of-type {\n",
       "        vertical-align: middle;\n",
       "    }\n",
       "\n",
       "    .dataframe tbody tr th {\n",
       "        vertical-align: top;\n",
       "    }\n",
       "\n",
       "    .dataframe thead th {\n",
       "        text-align: right;\n",
       "    }\n",
       "</style>\n",
       "<table border=\"1\" class=\"dataframe\">\n",
       "  <thead>\n",
       "    <tr style=\"text-align: right;\">\n",
       "      <th></th>\n",
       "      <th>time</th>\n",
       "      <th>latitude</th>\n",
       "      <th>longitude</th>\n",
       "      <th>mag</th>\n",
       "      <th>place</th>\n",
       "      <th>year</th>\n",
       "      <th>decade</th>\n",
       "    </tr>\n",
       "  </thead>\n",
       "  <tbody>\n",
       "    <tr>\n",
       "      <th>0</th>\n",
       "      <td>1969-12-13T18:59:11.430Z</td>\n",
       "      <td>19.313000</td>\n",
       "      <td>-155.104000</td>\n",
       "      <td>2.78</td>\n",
       "      <td>17 km S of Fern Forest, Hawaii</td>\n",
       "      <td>1969</td>\n",
       "      <td>1960s</td>\n",
       "    </tr>\n",
       "    <tr>\n",
       "      <th>1</th>\n",
       "      <td>1969-12-13T17:55:57.400Z</td>\n",
       "      <td>46.709000</td>\n",
       "      <td>-119.234333</td>\n",
       "      <td>1.60</td>\n",
       "      <td>13 km SSW of Othello, Washington</td>\n",
       "      <td>1969</td>\n",
       "      <td>1960s</td>\n",
       "    </tr>\n",
       "    <tr>\n",
       "      <th>2</th>\n",
       "      <td>1969-12-13T13:03:04.570Z</td>\n",
       "      <td>19.466667</td>\n",
       "      <td>-155.487667</td>\n",
       "      <td>1.94</td>\n",
       "      <td>26 km W of Volcano, Hawaii</td>\n",
       "      <td>1969</td>\n",
       "      <td>1960s</td>\n",
       "    </tr>\n",
       "    <tr>\n",
       "      <th>3</th>\n",
       "      <td>1969-12-13T12:53:50.580Z</td>\n",
       "      <td>19.443167</td>\n",
       "      <td>-155.248833</td>\n",
       "      <td>NaN</td>\n",
       "      <td>1 km W of Volcano, Hawaii</td>\n",
       "      <td>1969</td>\n",
       "      <td>1960s</td>\n",
       "    </tr>\n",
       "    <tr>\n",
       "      <th>4</th>\n",
       "      <td>1969-12-13T10:43:38.000Z</td>\n",
       "      <td>19.304167</td>\n",
       "      <td>-155.210500</td>\n",
       "      <td>2.51</td>\n",
       "      <td>15 km S of Volcano, Hawaii</td>\n",
       "      <td>1969</td>\n",
       "      <td>1960s</td>\n",
       "    </tr>\n",
       "    <tr>\n",
       "      <th>...</th>\n",
       "      <td>...</td>\n",
       "      <td>...</td>\n",
       "      <td>...</td>\n",
       "      <td>...</td>\n",
       "      <td>...</td>\n",
       "      <td>...</td>\n",
       "      <td>...</td>\n",
       "    </tr>\n",
       "    <tr>\n",
       "      <th>4053076</th>\n",
       "      <td>2021-07-25T00:14:10.316Z</td>\n",
       "      <td>62.637400</td>\n",
       "      <td>-150.151200</td>\n",
       "      <td>1.30</td>\n",
       "      <td>21 km N of Chase, Alaska</td>\n",
       "      <td>2021</td>\n",
       "      <td>2020s</td>\n",
       "    </tr>\n",
       "    <tr>\n",
       "      <th>4053077</th>\n",
       "      <td>2021-07-25T00:05:08.190Z</td>\n",
       "      <td>19.228500</td>\n",
       "      <td>-155.453659</td>\n",
       "      <td>1.84</td>\n",
       "      <td>3 km NE of P?hala, Hawaii</td>\n",
       "      <td>2021</td>\n",
       "      <td>2020s</td>\n",
       "    </tr>\n",
       "    <tr>\n",
       "      <th>4053078</th>\n",
       "      <td>2021-07-25T00:03:53.992Z</td>\n",
       "      <td>11.217900</td>\n",
       "      <td>-86.871700</td>\n",
       "      <td>4.50</td>\n",
       "      <td>74 km SSW of Masachapa, Nicaragua</td>\n",
       "      <td>2021</td>\n",
       "      <td>2020s</td>\n",
       "    </tr>\n",
       "    <tr>\n",
       "      <th>4053079</th>\n",
       "      <td>2021-07-25T00:02:53.559Z</td>\n",
       "      <td>60.157700</td>\n",
       "      <td>-141.588500</td>\n",
       "      <td>1.10</td>\n",
       "      <td>124 km WNW of Yakutat, Alaska</td>\n",
       "      <td>2021</td>\n",
       "      <td>2020s</td>\n",
       "    </tr>\n",
       "    <tr>\n",
       "      <th>4053080</th>\n",
       "      <td>2021-07-25T00:01:22.970Z</td>\n",
       "      <td>45.718833</td>\n",
       "      <td>-111.237333</td>\n",
       "      <td>1.33</td>\n",
       "      <td>6 km SE of Churchill, Montana</td>\n",
       "      <td>2021</td>\n",
       "      <td>2020s</td>\n",
       "    </tr>\n",
       "  </tbody>\n",
       "</table>\n",
       "<p>4053081 rows × 7 columns</p>\n",
       "</div>"
      ],
      "text/plain": [
       "                             time   latitude   longitude   mag  \\\n",
       "0        1969-12-13T18:59:11.430Z  19.313000 -155.104000  2.78   \n",
       "1        1969-12-13T17:55:57.400Z  46.709000 -119.234333  1.60   \n",
       "2        1969-12-13T13:03:04.570Z  19.466667 -155.487667  1.94   \n",
       "3        1969-12-13T12:53:50.580Z  19.443167 -155.248833   NaN   \n",
       "4        1969-12-13T10:43:38.000Z  19.304167 -155.210500  2.51   \n",
       "...                           ...        ...         ...   ...   \n",
       "4053076  2021-07-25T00:14:10.316Z  62.637400 -150.151200  1.30   \n",
       "4053077  2021-07-25T00:05:08.190Z  19.228500 -155.453659  1.84   \n",
       "4053078  2021-07-25T00:03:53.992Z  11.217900  -86.871700  4.50   \n",
       "4053079  2021-07-25T00:02:53.559Z  60.157700 -141.588500  1.10   \n",
       "4053080  2021-07-25T00:01:22.970Z  45.718833 -111.237333  1.33   \n",
       "\n",
       "                                     place  year decade  \n",
       "0           17 km S of Fern Forest, Hawaii  1969  1960s  \n",
       "1         13 km SSW of Othello, Washington  1969  1960s  \n",
       "2               26 km W of Volcano, Hawaii  1969  1960s  \n",
       "3                1 km W of Volcano, Hawaii  1969  1960s  \n",
       "4               15 km S of Volcano, Hawaii  1969  1960s  \n",
       "...                                    ...   ...    ...  \n",
       "4053076           21 km N of Chase, Alaska  2021  2020s  \n",
       "4053077          3 km NE of P?hala, Hawaii  2021  2020s  \n",
       "4053078  74 km SSW of Masachapa, Nicaragua  2021  2020s  \n",
       "4053079      124 km WNW of Yakutat, Alaska  2021  2020s  \n",
       "4053080      6 km SE of Churchill, Montana  2021  2020s  \n",
       "\n",
       "[4053081 rows x 7 columns]"
      ]
     },
     "execution_count": 13,
     "metadata": {},
     "output_type": "execute_result"
    }
   ],
   "source": [
    "quake_df['decade'] = quake_df['year'].apply(lambda x: str(x) [:3] + '0s')\n",
    "quake_df"
   ]
  },
  {
   "cell_type": "code",
   "execution_count": 14,
   "id": "23457df4",
   "metadata": {},
   "outputs": [
    {
     "name": "stdout",
     "output_type": "stream",
     "text": [
      "Total Number to Earthquakes in 1970s    40968\n",
      "Name: decade, dtype: int64\n",
      "Total Number to Earthquakes in 1980s    75568\n",
      "Name: decade, dtype: int64\n",
      "Total Number to Earthquakes in 1990s    125440\n",
      "Name: decade, dtype: int64\n",
      "Total Number to Earthquakes in 2000s    199869\n",
      "Name: decade, dtype: int64\n",
      "Total Number to Earthquakes in 2010s    187015\n",
      "Name: decade, dtype: int64\n"
     ]
    }
   ],
   "source": [
    "seventies = quake_df.loc[(quake_df['decade'] == '1970s') & (quake_df['mag'] >= 3)]\n",
    "num_of_quakes_70 = seventies['decade'].value_counts()\n",
    "eighties = quake_df.loc[(quake_df['decade'] == '1980s') & (quake_df['mag'] >= 3)]\n",
    "num_of_quakes_80 = eighties['decade'].value_counts()\n",
    "nineties = quake_df.loc[(quake_df['decade'] == '1990s') & (quake_df['mag'] >= 3)]\n",
    "num_of_quakes_90 = nineties['decade'].value_counts()\n",
    "y2k = quake_df.loc[(quake_df['decade'] == '2000s') & (quake_df['mag'] >= 3)]\n",
    "num_of_quakes_00 = y2k['decade'].value_counts()\n",
    "y2k1 = quake_df.loc[(quake_df['decade'] == '2010s') & (quake_df['mag'] >= 3)]\n",
    "num_of_quakes_10 = y2k1['decade'].value_counts()\n",
    "y2k2 = quake_df.loc[(quake_df['year'] == 2020) & (quake_df['mag'] >= 3)]\n",
    "print(f'Total Number to Earthquakes in {num_of_quakes_70}')\n",
    "print(f'Total Number to Earthquakes in {num_of_quakes_80}')\n",
    "print(f'Total Number to Earthquakes in {num_of_quakes_90}')\n",
    "print(f'Total Number to Earthquakes in {num_of_quakes_00}')\n",
    "print(f'Total Number to Earthquakes in {num_of_quakes_10}')"
   ]
  },
  {
   "cell_type": "code",
   "execution_count": 15,
   "id": "548ac3db",
   "metadata": {},
   "outputs": [
    {
     "data": {
      "text/plain": [
       "579011.5714285715"
      ]
     },
     "execution_count": 15,
     "metadata": {},
     "output_type": "execute_result"
    }
   ],
   "source": [
    "num_of_quakes_by_dec = quake_df['decade'].value_counts()\n",
    "num_of_quakes_by_dec.mean()"
   ]
  },
  {
   "cell_type": "code",
   "execution_count": 16,
   "id": "95d6a098",
   "metadata": {},
   "outputs": [],
   "source": [
    "top10_quakes_all = quake_df.nlargest(10, 'mag')\n",
    "top10_70s = seventies.nlargest(10, 'mag')\n",
    "top10_80s = eighties.nlargest(10, 'mag')\n",
    "top10_90s = nineties.nlargest(10, 'mag')\n",
    "top10_00s = y2k.nlargest(10, 'mag')\n",
    "top10_10s = y2k1.nlargest(10, 'mag')"
   ]
  },
  {
   "cell_type": "code",
   "execution_count": 11,
   "id": "f1db16da",
   "metadata": {},
   "outputs": [
    {
     "data": {
      "application/vnd.jupyter.widget-view+json": {
       "model_id": "e2e0dc236cee4c61aeaf0f291ba0335e",
       "version_major": 2,
       "version_minor": 0
      },
      "text/plain": [
       "Figure(layout=FigureLayout(height='420px'))"
      ]
     },
     "metadata": {},
     "output_type": "display_data"
    }
   ],
   "source": [
    "locations = top10_quakes_all[['latitude', 'longitude']]\n",
    "weights = top10_quakes_all['mag']\n",
    "\n",
    "fig = gmaps.figure(zoom_level=2, center=[31.9686, -99.9018])\n",
    "\n",
    "\n",
    "\n",
    "# Create heat layer\n",
    "heat_layer = gmaps.heatmap_layer(locations, weights = weights,\n",
    "                                 dissipating=False, max_intensity=10,\n",
    "                                 point_radius=3)\n",
    "\n",
    "\n",
    "# Add layer\n",
    "fig.add_layer(heat_layer)\n",
    "\n",
    "# Display figure\n",
    "fig"
   ]
  },
  {
   "cell_type": "code",
   "execution_count": 12,
   "id": "4a498824",
   "metadata": {},
   "outputs": [
    {
     "data": {
      "application/vnd.jupyter.widget-view+json": {
       "model_id": "3035f3da1c1f4872b771902387247822",
       "version_major": 2,
       "version_minor": 0
      },
      "text/plain": [
       "Figure(layout=FigureLayout(height='420px'))"
      ]
     },
     "metadata": {},
     "output_type": "display_data"
    }
   ],
   "source": [
    "marker_locations = top10_quakes_all[['latitude', 'longitude']]\n",
    "\n",
    "fig = gmaps.figure(zoom_level=2, center=[31.9686, -99.9018])\n",
    "markers = gmaps.marker_layer(marker_locations)\n",
    "fig.add_layer(markers)\n",
    "fig"
   ]
  },
  {
   "cell_type": "code",
   "execution_count": 27,
   "id": "295eebdd",
   "metadata": {},
   "outputs": [
    {
     "data": {
      "image/png": "[encoded data removed]",
      "text/plain": [
       "<Figure size 432x288 with 2 Axes>"
      ]
     },
     "metadata": {
      "needs_background": "light"
     },
     "output_type": "display_data"
    }
   ],
   "source": [
    " "
   ]
  },
  {
   "cell_type": "code",
   "execution_count": null,
   "id": "cc8609b1",
   "metadata": {},
   "outputs": [],
   "source": []
  }
 ],
 "metadata": {
  "kernelspec": {
   "display_name": "Python [conda env:PythonData] *",
   "language": "python",
   "name": "conda-env-PythonData-py"
  },
  "language_info": {
   "codemirror_mode": {
    "name": "ipython",
    "version": 3
   },
   "file_extension": ".py",
   "mimetype": "text/x-python",
   "name": "python",
   "nbconvert_exporter": "python",
   "pygments_lexer": "ipython3",
   "version": "3.6.13"
  }
 },
 "nbformat": 4,
 "nbformat_minor": 5
}
